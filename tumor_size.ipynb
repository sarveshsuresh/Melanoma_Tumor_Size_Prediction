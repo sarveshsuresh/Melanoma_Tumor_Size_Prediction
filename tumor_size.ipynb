{
  "nbformat": 4,
  "nbformat_minor": 0,
  "metadata": {
    "colab": {
      "name": "tumor_size.ipynb",
      "provenance": [],
      "authorship_tag": "ABX9TyNhgXLzie4O2BgqJE/W009T",
      "include_colab_link": true
    },
    "kernelspec": {
      "name": "python3",
      "display_name": "Python 3"
    }
  },
  "cells": [
    {
      "cell_type": "markdown",
      "metadata": {
        "id": "view-in-github",
        "colab_type": "text"
      },
      "source": [
        "<a href=\"https://colab.research.google.com/github/sarveshsuresh/Melanoma_Tumor_Size_Prediction/blob/master/tumor_size.ipynb\" target=\"_parent\"><img src=\"https://colab.research.google.com/assets/colab-badge.svg\" alt=\"Open In Colab\"/></a>"
      ]
    },
    {
      "cell_type": "code",
      "metadata": {
        "id": "WV83Hj-G5H7D",
        "colab_type": "code",
        "colab": {
          "base_uri": "https://localhost:8080/",
          "height": 51
        },
        "outputId": "7410905b-e80e-452b-9e0c-799bfd3b9d1b"
      },
      "source": [
        "##IMPORT THE NECESSARY PACKAGES\n",
        "import pandas as pd\n",
        "import numpy as np\n",
        "import matplotlib.pyplot as plt\n",
        "import seaborn as sns"
      ],
      "execution_count": 1,
      "outputs": [
        {
          "output_type": "stream",
          "text": [
            "/usr/local/lib/python3.6/dist-packages/statsmodels/tools/_testing.py:19: FutureWarning: pandas.util.testing is deprecated. Use the functions in the public API at pandas.testing instead.\n",
            "  import pandas.util.testing as tm\n"
          ],
          "name": "stderr"
        }
      ]
    },
    {
      "cell_type": "code",
      "metadata": {
        "id": "xaFyghJk5jA0",
        "colab_type": "code",
        "colab": {}
      },
      "source": [
        "#READ THE TRAIN AND TEST DATA\n",
        "train=pd.read_csv(\"Train.csv\")\n",
        "test=pd.read_csv(\"Test.csv\")"
      ],
      "execution_count": 2,
      "outputs": []
    },
    {
      "cell_type": "markdown",
      "metadata": {
        "id": "6b5qhrtgqOgV",
        "colab_type": "text"
      },
      "source": [
        "GET A FEEL OF THE DATA BEFORE DIVING INTO ML ALGORITHMS"
      ]
    },
    {
      "cell_type": "code",
      "metadata": {
        "id": "XqjOTyLO5o2C",
        "colab_type": "code",
        "colab": {
          "base_uri": "https://localhost:8080/",
          "height": 204
        },
        "outputId": "ec4c5300-4c91-4c59-ab5a-a93aeefb2aef"
      },
      "source": [
        "train.head()"
      ],
      "execution_count": 3,
      "outputs": [
        {
          "output_type": "execute_result",
          "data": {
            "text/html": [
              "<div>\n",
              "<style scoped>\n",
              "    .dataframe tbody tr th:only-of-type {\n",
              "        vertical-align: middle;\n",
              "    }\n",
              "\n",
              "    .dataframe tbody tr th {\n",
              "        vertical-align: top;\n",
              "    }\n",
              "\n",
              "    .dataframe thead th {\n",
              "        text-align: right;\n",
              "    }\n",
              "</style>\n",
              "<table border=\"1\" class=\"dataframe\">\n",
              "  <thead>\n",
              "    <tr style=\"text-align: right;\">\n",
              "      <th></th>\n",
              "      <th>mass_npea</th>\n",
              "      <th>size_npear</th>\n",
              "      <th>malign_ratio</th>\n",
              "      <th>damage_size</th>\n",
              "      <th>exposed_area</th>\n",
              "      <th>std_dev_malign</th>\n",
              "      <th>err_malign</th>\n",
              "      <th>malign_penalty</th>\n",
              "      <th>damage_ratio</th>\n",
              "      <th>tumor_size</th>\n",
              "    </tr>\n",
              "  </thead>\n",
              "  <tbody>\n",
              "    <tr>\n",
              "      <th>0</th>\n",
              "      <td>6930.90</td>\n",
              "      <td>2919.02</td>\n",
              "      <td>0.42116</td>\n",
              "      <td>51.8298</td>\n",
              "      <td>9.888294e+05</td>\n",
              "      <td>109.487</td>\n",
              "      <td>2758.76</td>\n",
              "      <td>72</td>\n",
              "      <td>39.3620</td>\n",
              "      <td>14.103</td>\n",
              "    </tr>\n",
              "    <tr>\n",
              "      <th>1</th>\n",
              "      <td>15635.70</td>\n",
              "      <td>4879.36</td>\n",
              "      <td>0.31206</td>\n",
              "      <td>223.5500</td>\n",
              "      <td>2.058426e+06</td>\n",
              "      <td>248.881</td>\n",
              "      <td>5952.53</td>\n",
              "      <td>240</td>\n",
              "      <td>22.0253</td>\n",
              "      <td>2.648</td>\n",
              "    </tr>\n",
              "    <tr>\n",
              "      <th>2</th>\n",
              "      <td>10376.20</td>\n",
              "      <td>2613.88</td>\n",
              "      <td>0.25191</td>\n",
              "      <td>127.3370</td>\n",
              "      <td>1.434676e+06</td>\n",
              "      <td>160.093</td>\n",
              "      <td>4635.26</td>\n",
              "      <td>73</td>\n",
              "      <td>29.9963</td>\n",
              "      <td>1.688</td>\n",
              "    </tr>\n",
              "    <tr>\n",
              "      <th>3</th>\n",
              "      <td>13093.80</td>\n",
              "      <td>4510.06</td>\n",
              "      <td>0.34444</td>\n",
              "      <td>155.4400</td>\n",
              "      <td>1.812195e+06</td>\n",
              "      <td>173.015</td>\n",
              "      <td>5273.87</td>\n",
              "      <td>32</td>\n",
              "      <td>28.1354</td>\n",
              "      <td>3.796</td>\n",
              "    </tr>\n",
              "    <tr>\n",
              "      <th>4</th>\n",
              "      <td>7545.21</td>\n",
              "      <td>2882.36</td>\n",
              "      <td>0.38201</td>\n",
              "      <td>85.1237</td>\n",
              "      <td>1.043918e+06</td>\n",
              "      <td>124.414</td>\n",
              "      <td>3263.35</td>\n",
              "      <td>57</td>\n",
              "      <td>35.0200</td>\n",
              "      <td>18.023</td>\n",
              "    </tr>\n",
              "  </tbody>\n",
              "</table>\n",
              "</div>"
            ],
            "text/plain": [
              "   mass_npea  size_npear  ...  damage_ratio  tumor_size\n",
              "0    6930.90     2919.02  ...       39.3620      14.103\n",
              "1   15635.70     4879.36  ...       22.0253       2.648\n",
              "2   10376.20     2613.88  ...       29.9963       1.688\n",
              "3   13093.80     4510.06  ...       28.1354       3.796\n",
              "4    7545.21     2882.36  ...       35.0200      18.023\n",
              "\n",
              "[5 rows x 10 columns]"
            ]
          },
          "metadata": {
            "tags": []
          },
          "execution_count": 3
        }
      ]
    },
    {
      "cell_type": "code",
      "metadata": {
        "id": "zfKogiOo5qjA",
        "colab_type": "code",
        "colab": {
          "base_uri": "https://localhost:8080/",
          "height": 204
        },
        "outputId": "cd7037ab-8c52-41e6-a6c6-a824f311380f"
      },
      "source": [
        "test.head()"
      ],
      "execution_count": 4,
      "outputs": [
        {
          "output_type": "execute_result",
          "data": {
            "text/html": [
              "<div>\n",
              "<style scoped>\n",
              "    .dataframe tbody tr th:only-of-type {\n",
              "        vertical-align: middle;\n",
              "    }\n",
              "\n",
              "    .dataframe tbody tr th {\n",
              "        vertical-align: top;\n",
              "    }\n",
              "\n",
              "    .dataframe thead th {\n",
              "        text-align: right;\n",
              "    }\n",
              "</style>\n",
              "<table border=\"1\" class=\"dataframe\">\n",
              "  <thead>\n",
              "    <tr style=\"text-align: right;\">\n",
              "      <th></th>\n",
              "      <th>mass_npea</th>\n",
              "      <th>size_npear</th>\n",
              "      <th>malign_ratio</th>\n",
              "      <th>damage_size</th>\n",
              "      <th>exposed_area</th>\n",
              "      <th>std_dev_malign</th>\n",
              "      <th>err_malign</th>\n",
              "      <th>malign_penalty</th>\n",
              "      <th>damage_ratio</th>\n",
              "    </tr>\n",
              "  </thead>\n",
              "  <tbody>\n",
              "    <tr>\n",
              "      <th>0</th>\n",
              "      <td>4946.44</td>\n",
              "      <td>914.06</td>\n",
              "      <td>0.18479</td>\n",
              "      <td>54.5566</td>\n",
              "      <td>6.628345e+05</td>\n",
              "      <td>67.0525</td>\n",
              "      <td>2301.76</td>\n",
              "      <td>22</td>\n",
              "      <td>41.9554</td>\n",
              "    </tr>\n",
              "    <tr>\n",
              "      <th>1</th>\n",
              "      <td>5613.85</td>\n",
              "      <td>1629.12</td>\n",
              "      <td>0.29019</td>\n",
              "      <td>51.5524</td>\n",
              "      <td>7.842271e+05</td>\n",
              "      <td>80.1986</td>\n",
              "      <td>3235.00</td>\n",
              "      <td>48</td>\n",
              "      <td>40.7410</td>\n",
              "    </tr>\n",
              "    <tr>\n",
              "      <th>2</th>\n",
              "      <td>12421.10</td>\n",
              "      <td>3062.41</td>\n",
              "      <td>0.24654</td>\n",
              "      <td>154.1560</td>\n",
              "      <td>1.763575e+06</td>\n",
              "      <td>186.8590</td>\n",
              "      <td>4684.63</td>\n",
              "      <td>63</td>\n",
              "      <td>29.4778</td>\n",
              "    </tr>\n",
              "    <tr>\n",
              "      <th>3</th>\n",
              "      <td>6830.77</td>\n",
              "      <td>2457.66</td>\n",
              "      <td>0.35979</td>\n",
              "      <td>56.8995</td>\n",
              "      <td>9.296623e+05</td>\n",
              "      <td>92.7361</td>\n",
              "      <td>3211.93</td>\n",
              "      <td>42</td>\n",
              "      <td>38.5027</td>\n",
              "    </tr>\n",
              "    <tr>\n",
              "      <th>4</th>\n",
              "      <td>33407.80</td>\n",
              "      <td>12353.60</td>\n",
              "      <td>0.36978</td>\n",
              "      <td>219.0740</td>\n",
              "      <td>4.595871e+06</td>\n",
              "      <td>493.3370</td>\n",
              "      <td>13389.36</td>\n",
              "      <td>187</td>\n",
              "      <td>26.8449</td>\n",
              "    </tr>\n",
              "  </tbody>\n",
              "</table>\n",
              "</div>"
            ],
            "text/plain": [
              "   mass_npea  size_npear  ...  malign_penalty  damage_ratio\n",
              "0    4946.44      914.06  ...              22       41.9554\n",
              "1    5613.85     1629.12  ...              48       40.7410\n",
              "2   12421.10     3062.41  ...              63       29.4778\n",
              "3    6830.77     2457.66  ...              42       38.5027\n",
              "4   33407.80    12353.60  ...             187       26.8449\n",
              "\n",
              "[5 rows x 9 columns]"
            ]
          },
          "metadata": {
            "tags": []
          },
          "execution_count": 4
        }
      ]
    },
    {
      "cell_type": "code",
      "metadata": {
        "id": "d_hxHIQ4nDd9",
        "colab_type": "code",
        "colab": {
          "base_uri": "https://localhost:8080/",
          "height": 34
        },
        "outputId": "997495b2-33f7-4057-c928-b1122101a7b4"
      },
      "source": [
        "train.shape"
      ],
      "execution_count": 5,
      "outputs": [
        {
          "output_type": "execute_result",
          "data": {
            "text/plain": [
              "(9146, 10)"
            ]
          },
          "metadata": {
            "tags": []
          },
          "execution_count": 5
        }
      ]
    },
    {
      "cell_type": "code",
      "metadata": {
        "id": "4Ony9uIanFRD",
        "colab_type": "code",
        "colab": {
          "base_uri": "https://localhost:8080/",
          "height": 34
        },
        "outputId": "cfc3faac-6416-4254-d264-5c6fd4dde5be"
      },
      "source": [
        "test.shape"
      ],
      "execution_count": 6,
      "outputs": [
        {
          "output_type": "execute_result",
          "data": {
            "text/plain": [
              "(36584, 9)"
            ]
          },
          "metadata": {
            "tags": []
          },
          "execution_count": 6
        }
      ]
    },
    {
      "cell_type": "code",
      "metadata": {
        "id": "UqZMRsEsnGm-",
        "colab_type": "code",
        "colab": {
          "base_uri": "https://localhost:8080/",
          "height": 204
        },
        "outputId": "b68aba6b-590c-457a-efa6-770cddc1e7de"
      },
      "source": [
        "train.dtypes"
      ],
      "execution_count": 7,
      "outputs": [
        {
          "output_type": "execute_result",
          "data": {
            "text/plain": [
              "mass_npea         float64\n",
              "size_npear        float64\n",
              "malign_ratio      float64\n",
              "damage_size       float64\n",
              "exposed_area      float64\n",
              "std_dev_malign    float64\n",
              "err_malign        float64\n",
              "malign_penalty      int64\n",
              "damage_ratio      float64\n",
              "tumor_size        float64\n",
              "dtype: object"
            ]
          },
          "metadata": {
            "tags": []
          },
          "execution_count": 7
        }
      ]
    },
    {
      "cell_type": "code",
      "metadata": {
        "id": "dQqb4AWOnITB",
        "colab_type": "code",
        "colab": {
          "base_uri": "https://localhost:8080/",
          "height": 187
        },
        "outputId": "7480dec7-8ea5-4835-9788-7ff9e6df06dc"
      },
      "source": [
        "test.dtypes"
      ],
      "execution_count": 8,
      "outputs": [
        {
          "output_type": "execute_result",
          "data": {
            "text/plain": [
              "mass_npea         float64\n",
              "size_npear        float64\n",
              "malign_ratio      float64\n",
              "damage_size       float64\n",
              "exposed_area      float64\n",
              "std_dev_malign    float64\n",
              "err_malign        float64\n",
              "malign_penalty      int64\n",
              "damage_ratio      float64\n",
              "dtype: object"
            ]
          },
          "metadata": {
            "tags": []
          },
          "execution_count": 8
        }
      ]
    },
    {
      "cell_type": "code",
      "metadata": {
        "id": "EBAQRZGhqpgn",
        "colab_type": "code",
        "colab": {}
      },
      "source": [
        "#CHECK IF NEW FEATURES CAN BE ENGINEERED "
      ],
      "execution_count": null,
      "outputs": []
    },
    {
      "cell_type": "code",
      "metadata": {
        "id": "D3EzjcQBnNjT",
        "colab_type": "code",
        "colab": {
          "base_uri": "https://localhost:8080/",
          "height": 295
        },
        "outputId": "c70cce82-b48f-4bf3-c83c-985573a435d5"
      },
      "source": [
        "plt.scatter((train[\"mass_npea\"])*(train['size_npear']),train['tumor_size'])"
      ],
      "execution_count": 9,
      "outputs": [
        {
          "output_type": "execute_result",
          "data": {
            "text/plain": [
              "<matplotlib.collections.PathCollection at 0x7f7516a49dd8>"
            ]
          },
          "metadata": {
            "tags": []
          },
          "execution_count": 9
        },
        {
          "output_type": "display_data",
          "data": {
            "image/png": "[encoded data removed]",
            "text/plain": [
              "<Figure size 432x288 with 1 Axes>"
            ]
          },
          "metadata": {
            "tags": [],
            "needs_background": "light"
          }
        }
      ]
    },
    {
      "cell_type": "code",
      "metadata": {
        "id": "ZIIMfuAdnQ0A",
        "colab_type": "code",
        "colab": {
          "base_uri": "https://localhost:8080/",
          "height": 282
        },
        "outputId": "99dee816-7640-4bdb-cd35-52e974a02a46"
      },
      "source": [
        "plt.scatter(train['exposed_area']/train['size_npear'],train['tumor_size'])"
      ],
      "execution_count": 10,
      "outputs": [
        {
          "output_type": "execute_result",
          "data": {
            "text/plain": [
              "<matplotlib.collections.PathCollection at 0x7f751651bd68>"
            ]
          },
          "metadata": {
            "tags": []
          },
          "execution_count": 10
        },
        {
          "output_type": "display_data",
          "data": {
            "image/png": "[encoded data removed]",
            "text/plain": [
              "<Figure size 432x288 with 1 Axes>"
            ]
          },
          "metadata": {
            "tags": [],
            "needs_background": "light"
          }
        }
      ]
    },
    {
      "cell_type": "code",
      "metadata": {
        "id": "N320VnQiq3O2",
        "colab_type": "code",
        "colab": {}
      },
      "source": [
        "#WE DO NOT ADDITIONAL FEATURES AS THE PLOTS DO NOT ENCOURAGE US TO"
      ],
      "execution_count": null,
      "outputs": []
    },
    {
      "cell_type": "code",
      "metadata": {
        "id": "lcdpI7JE50em",
        "colab_type": "code",
        "colab": {
          "base_uri": "https://localhost:8080/",
          "height": 323
        },
        "outputId": "033bcae3-7979-4bb3-a731-4205947d0814"
      },
      "source": [
        "!pip install catboost"
      ],
      "execution_count": 11,
      "outputs": [
        {
          "output_type": "stream",
          "text": [
            "Collecting catboost\n",
            "\u001b[?25l  Downloading https://files.pythonhosted.org/packages/96/6c/6608210b29649267de52001b09e369777ee2a5cfe1c71fa75eba82a4f2dc/catboost-0.24-cp36-none-manylinux1_x86_64.whl (65.9MB)\n",
            "\u001b[K     |████████████████████████████████| 65.9MB 54kB/s \n",
            "\u001b[?25hRequirement already satisfied: pandas>=0.24.0 in /usr/local/lib/python3.6/dist-packages (from catboost) (1.0.5)\n",
            "Requirement already satisfied: numpy>=1.16.0 in /usr/local/lib/python3.6/dist-packages (from catboost) (1.18.5)\n",
            "Requirement already satisfied: matplotlib in /usr/local/lib/python3.6/dist-packages (from catboost) (3.2.2)\n",
            "Requirement already satisfied: scipy in /usr/local/lib/python3.6/dist-packages (from catboost) (1.4.1)\n",
            "Requirement already satisfied: plotly in /usr/local/lib/python3.6/dist-packages (from catboost) (4.4.1)\n",
            "Requirement already satisfied: graphviz in /usr/local/lib/python3.6/dist-packages (from catboost) (0.10.1)\n",
            "Requirement already satisfied: six in /usr/local/lib/python3.6/dist-packages (from catboost) (1.15.0)\n",
            "Requirement already satisfied: pytz>=2017.2 in /usr/local/lib/python3.6/dist-packages (from pandas>=0.24.0->catboost) (2018.9)\n",
            "Requirement already satisfied: python-dateutil>=2.6.1 in /usr/local/lib/python3.6/dist-packages (from pandas>=0.24.0->catboost) (2.8.1)\n",
            "Requirement already satisfied: kiwisolver>=1.0.1 in /usr/local/lib/python3.6/dist-packages (from matplotlib->catboost) (1.2.0)\n",
            "Requirement already satisfied: pyparsing!=2.0.4,!=2.1.2,!=2.1.6,>=2.0.1 in /usr/local/lib/python3.6/dist-packages (from matplotlib->catboost) (2.4.7)\n",
            "Requirement already satisfied: cycler>=0.10 in /usr/local/lib/python3.6/dist-packages (from matplotlib->catboost) (0.10.0)\n",
            "Requirement already satisfied: retrying>=1.3.3 in /usr/local/lib/python3.6/dist-packages (from plotly->catboost) (1.3.3)\n",
            "Installing collected packages: catboost\n",
            "Successfully installed catboost-0.24\n"
          ],
          "name": "stdout"
        }
      ]
    },
    {
      "cell_type": "code",
      "metadata": {
        "id": "TPXJFYVS53mE",
        "colab_type": "code",
        "colab": {}
      },
      "source": [
        "from catboost import CatBoostRegressor\n",
        "from sklearn.ensemble import RandomForestRegressor\n",
        "from lightgbm import LGBMRegressor"
      ],
      "execution_count": 12,
      "outputs": []
    },
    {
      "cell_type": "code",
      "metadata": {
        "id": "WBY4Nldu6DL4",
        "colab_type": "code",
        "colab": {}
      },
      "source": [
        "from sklearn.model_selection import KFold\n",
        "from sklearn.metrics import mean_squared_error"
      ],
      "execution_count": 13,
      "outputs": []
    },
    {
      "cell_type": "code",
      "metadata": {
        "id": "j3W22Uv16x2T",
        "colab_type": "code",
        "colab": {}
      },
      "source": [
        "x=train.drop(columns=['tumor_size'])\n",
        "y=train['tumor_size']"
      ],
      "execution_count": 14,
      "outputs": []
    },
    {
      "cell_type": "code",
      "metadata": {
        "id": "-6f_YDtt6Mmy",
        "colab_type": "code",
        "colab": {
          "base_uri": "https://localhost:8080/",
          "height": 119
        },
        "outputId": "f4a101f4-b87b-485e-e9de-09f14da4d50a"
      },
      "source": [
        "kfold, scores = KFold(n_splits=5, shuffle=True, random_state=27), []\n",
        "Actual_Preds=[]\n",
        "\n",
        "for trainn, testt in kfold.split(x):\n",
        "        x_train, x_test = x.iloc[trainn], x.iloc[testt]\n",
        "        y_train, y_test = y.iloc[trainn], y.iloc[testt]\n",
        "        \n",
        "        model = CatBoostRegressor(num_trees=2000,learning_rate=0.05,od_type=\"Iter\",od_wait=200,\n",
        "                                  verbose=0,max_depth=12)\n",
        "        model.fit(x_train,y_train)\n",
        "\n",
        "        preds =model.predict(x_test)\n",
        "        score = mean_squared_error(y_test, preds)**(1/2)\n",
        "        scores.append(score)\n",
        "        realpreds = model.predict(test)\n",
        "        Actual_Preds.append(realpreds)\n",
        "        \n",
        "        print(score)\n",
        "print(\"AVERAGE SCORE: \", sum(scores)/len(scores))"
      ],
      "execution_count": 18,
      "outputs": [
        {
          "output_type": "stream",
          "text": [
            "3.882286902191982\n",
            "3.8731946163408693\n",
            "3.741740809685078\n",
            "3.7208886132859966\n",
            "3.8480769687669003\n",
            "AVERAGE SCORE:  3.8132375820541653\n"
          ],
          "name": "stdout"
        }
      ]
    },
    {
      "cell_type": "code",
      "metadata": {
        "id": "vx-Gat1srH-R",
        "colab_type": "code",
        "colab": {}
      },
      "source": [
        "##AFTER SEVERAL TRIALS, CATBOOST as a Standalone without blending with other models was found to give the best performance .\n"
      ],
      "execution_count": null,
      "outputs": []
    },
    {
      "cell_type": "code",
      "metadata": {
        "id": "ggQYBzKp7AE3",
        "colab_type": "code",
        "colab": {}
      },
      "source": [
        "preds = np.mean(Actual_Preds,0)\n",
        "liv= pd.DataFrame(preds,columns=[\"tumor_size\"])\n"
      ],
      "execution_count": 19,
      "outputs": []
    },
    {
      "cell_type": "code",
      "metadata": {
        "id": "Phm-zASm99Pa",
        "colab_type": "code",
        "colab": {}
      },
      "source": [
        "liv['tumor_size'].to_csv(\"predictions.csv\",index=False)"
      ],
      "execution_count": 21,
      "outputs": []
    }
  ]
}