{
  "nbformat": 4,
  "nbformat_minor": 0,
  "metadata": {
    "colab": {
      "name": "tumor_size.ipynb",
      "provenance": [],
      "authorship_tag": "ABX9TyMd/4Y/7RmJswxngaXtpIVv",
      "include_colab_link": true
    },
    "kernelspec": {
      "name": "python3",
      "display_name": "Python 3"
    }
  },
  "cells": [
    {
      "cell_type": "markdown",
      "metadata": {
        "id": "view-in-github",
        "colab_type": "text"
      },
      "source": [
        "<a href=\"https://colab.research.google.com/github/sarveshsuresh/Melanoma_Tumor_Size_Prediction/blob/master/tumor_size.ipynb\" target=\"_parent\"><img src=\"https://colab.research.google.com/assets/colab-badge.svg\" alt=\"Open In Colab\"/></a>"
      ]
    },
    {
      "cell_type": "code",
      "metadata": {
        "id": "WV83Hj-G5H7D",
        "colab_type": "code",
        "colab": {}
      },
      "source": [
        "import pandas as pd\n",
        "import numpy as np\n",
        "import matplotlib.pyplot as plt\n",
        "import seaborn as sns"
      ],
      "execution_count": null,
      "outputs": []
    },
    {
      "cell_type": "code",
      "metadata": {
        "id": "xaFyghJk5jA0",
        "colab_type": "code",
        "colab": {}
      },
      "source": [
        "train=pd.read_csv(\"Train.csv\")\n",
        "test=pd.read_csv(\"Test.csv\")"
      ],
      "execution_count": null,
      "outputs": []
    },
    {
      "cell_type": "code",
      "metadata": {
        "id": "XqjOTyLO5o2C",
        "colab_type": "code",
        "colab": {
          "base_uri": "https://localhost:8080/",
          "height": 669
        },
        "outputId": "87eea313-d91c-4a92-cd42-6fcc367aae3e"
      },
      "source": [
        "train.head()"
      ],
      "execution_count": null,
      "outputs": [
        {
          "output_type": "execute_result",
          "data": {
            "text/html": [
              "<div>\n",
              "<style scoped>\n",
              "    .dataframe tbody tr th:only-of-type {\n",
              "        vertical-align: middle;\n",
              "    }\n",
              "\n",
              "    .dataframe tbody tr th {\n",
              "        vertical-align: top;\n",
              "    }\n",
              "\n",
              "    .dataframe thead th {\n",
              "        text-align: right;\n",
              "    }\n",
              "</style>\n",
              "<table border=\"1\" class=\"dataframe\">\n",
              "  <thead>\n",
              "    <tr style=\"text-align: right;\">\n",
              "      <th></th>\n",
              "      <th>mass_npea</th>\n",
              "      <th>size_npear</th>\n",
              "      <th>malign_ratio</th>\n",
              "      <th>damage_size</th>\n",
              "      <th>exposed_area</th>\n",
              "      <th>std_dev_malign</th>\n",
              "      <th>err_malign</th>\n",
              "      <th>malign_penalty</th>\n",
              "      <th>damage_ratio</th>\n",
              "      <th>tumor_size</th>\n",
              "      <th>v1</th>\n",
              "    </tr>\n",
              "  </thead>\n",
              "  <tbody>\n",
              "    <tr>\n",
              "      <th>0</th>\n",
              "      <td>6930.90</td>\n",
              "      <td>0.184920</td>\n",
              "      <td>0.42116</td>\n",
              "      <td>51.8298</td>\n",
              "      <td>0.130910</td>\n",
              "      <td>109.4870</td>\n",
              "      <td>2758.76</td>\n",
              "      <td>72</td>\n",
              "      <td>39.3620</td>\n",
              "      <td>14.103</td>\n",
              "      <td>0.707925</td>\n",
              "    </tr>\n",
              "    <tr>\n",
              "      <th>1</th>\n",
              "      <td>15635.70</td>\n",
              "      <td>0.335432</td>\n",
              "      <td>0.31206</td>\n",
              "      <td>223.5500</td>\n",
              "      <td>0.363899</td>\n",
              "      <td>248.8810</td>\n",
              "      <td>5952.53</td>\n",
              "      <td>240</td>\n",
              "      <td>22.0253</td>\n",
              "      <td>2.648</td>\n",
              "      <td>1.084865</td>\n",
              "    </tr>\n",
              "    <tr>\n",
              "      <th>2</th>\n",
              "      <td>10376.20</td>\n",
              "      <td>0.161492</td>\n",
              "      <td>0.25191</td>\n",
              "      <td>127.3370</td>\n",
              "      <td>0.228028</td>\n",
              "      <td>160.0930</td>\n",
              "      <td>4635.26</td>\n",
              "      <td>73</td>\n",
              "      <td>29.9963</td>\n",
              "      <td>1.688</td>\n",
              "      <td>1.412007</td>\n",
              "    </tr>\n",
              "    <tr>\n",
              "      <th>3</th>\n",
              "      <td>13093.80</td>\n",
              "      <td>0.307078</td>\n",
              "      <td>0.34444</td>\n",
              "      <td>155.4400</td>\n",
              "      <td>0.310263</td>\n",
              "      <td>173.0150</td>\n",
              "      <td>5273.87</td>\n",
              "      <td>32</td>\n",
              "      <td>28.1354</td>\n",
              "      <td>3.796</td>\n",
              "      <td>1.010370</td>\n",
              "    </tr>\n",
              "    <tr>\n",
              "      <th>4</th>\n",
              "      <td>7545.21</td>\n",
              "      <td>0.182106</td>\n",
              "      <td>0.38201</td>\n",
              "      <td>85.1237</td>\n",
              "      <td>0.142910</td>\n",
              "      <td>124.4140</td>\n",
              "      <td>3263.35</td>\n",
              "      <td>57</td>\n",
              "      <td>35.0200</td>\n",
              "      <td>18.023</td>\n",
              "      <td>0.784762</td>\n",
              "    </tr>\n",
              "    <tr>\n",
              "      <th>5</th>\n",
              "      <td>6851.09</td>\n",
              "      <td>0.129345</td>\n",
              "      <td>0.32041</td>\n",
              "      <td>72.8283</td>\n",
              "      <td>0.122113</td>\n",
              "      <td>97.1881</td>\n",
              "      <td>3688.57</td>\n",
              "      <td>40</td>\n",
              "      <td>36.3481</td>\n",
              "      <td>1.709</td>\n",
              "      <td>0.944090</td>\n",
              "    </tr>\n",
              "    <tr>\n",
              "      <th>6</th>\n",
              "      <td>7069.24</td>\n",
              "      <td>0.105614</td>\n",
              "      <td>0.26680</td>\n",
              "      <td>58.2686</td>\n",
              "      <td>0.138742</td>\n",
              "      <td>76.9447</td>\n",
              "      <td>3168.44</td>\n",
              "      <td>22</td>\n",
              "      <td>39.9961</td>\n",
              "      <td>9.937</td>\n",
              "      <td>1.313673</td>\n",
              "    </tr>\n",
              "    <tr>\n",
              "      <th>7</th>\n",
              "      <td>16446.10</td>\n",
              "      <td>0.353559</td>\n",
              "      <td>0.31104</td>\n",
              "      <td>204.9740</td>\n",
              "      <td>0.387627</td>\n",
              "      <td>265.8810</td>\n",
              "      <td>6425.91</td>\n",
              "      <td>242</td>\n",
              "      <td>22.9533</td>\n",
              "      <td>2.510</td>\n",
              "      <td>1.096356</td>\n",
              "    </tr>\n",
              "    <tr>\n",
              "      <th>8</th>\n",
              "      <td>6814.73</td>\n",
              "      <td>0.117721</td>\n",
              "      <td>0.29990</td>\n",
              "      <td>90.0889</td>\n",
              "      <td>0.126151</td>\n",
              "      <td>99.6286</td>\n",
              "      <td>3428.54</td>\n",
              "      <td>27</td>\n",
              "      <td>37.1642</td>\n",
              "      <td>12.568</td>\n",
              "      <td>1.071614</td>\n",
              "    </tr>\n",
              "    <tr>\n",
              "      <th>9</th>\n",
              "      <td>5049.75</td>\n",
              "      <td>0.033728</td>\n",
              "      <td>0.18809</td>\n",
              "      <td>41.2957</td>\n",
              "      <td>0.065952</td>\n",
              "      <td>70.4142</td>\n",
              "      <td>2734.59</td>\n",
              "      <td>27</td>\n",
              "      <td>41.1366</td>\n",
              "      <td>13.428</td>\n",
              "      <td>1.955402</td>\n",
              "    </tr>\n",
              "    <tr>\n",
              "      <th>10</th>\n",
              "      <td>7786.91</td>\n",
              "      <td>0.136479</td>\n",
              "      <td>0.29383</td>\n",
              "      <td>72.8165</td>\n",
              "      <td>0.150454</td>\n",
              "      <td>117.3210</td>\n",
              "      <td>3353.90</td>\n",
              "      <td>63</td>\n",
              "      <td>37.7183</td>\n",
              "      <td>14.597</td>\n",
              "      <td>1.102396</td>\n",
              "    </tr>\n",
              "    <tr>\n",
              "      <th>11</th>\n",
              "      <td>12730.70</td>\n",
              "      <td>0.278612</td>\n",
              "      <td>0.32514</td>\n",
              "      <td>152.3320</td>\n",
              "      <td>0.303597</td>\n",
              "      <td>170.4250</td>\n",
              "      <td>5202.67</td>\n",
              "      <td>29</td>\n",
              "      <td>27.9358</td>\n",
              "      <td>3.584</td>\n",
              "      <td>1.089675</td>\n",
              "    </tr>\n",
              "    <tr>\n",
              "      <th>12</th>\n",
              "      <td>12433.60</td>\n",
              "      <td>0.202738</td>\n",
              "      <td>0.25343</td>\n",
              "      <td>112.3810</td>\n",
              "      <td>0.293336</td>\n",
              "      <td>165.4300</td>\n",
              "      <td>4718.09</td>\n",
              "      <td>40</td>\n",
              "      <td>29.0498</td>\n",
              "      <td>17.823</td>\n",
              "      <td>1.446870</td>\n",
              "    </tr>\n",
              "    <tr>\n",
              "      <th>13</th>\n",
              "      <td>9205.53</td>\n",
              "      <td>0.164192</td>\n",
              "      <td>0.28776</td>\n",
              "      <td>85.2738</td>\n",
              "      <td>0.201809</td>\n",
              "      <td>133.5930</td>\n",
              "      <td>3997.23</td>\n",
              "      <td>4</td>\n",
              "      <td>36.2856</td>\n",
              "      <td>2.110</td>\n",
              "      <td>1.229099</td>\n",
              "    </tr>\n",
              "    <tr>\n",
              "      <th>14</th>\n",
              "      <td>9037.90</td>\n",
              "      <td>0.144100</td>\n",
              "      <td>0.26414</td>\n",
              "      <td>85.9327</td>\n",
              "      <td>0.181517</td>\n",
              "      <td>112.0590</td>\n",
              "      <td>3616.39</td>\n",
              "      <td>9</td>\n",
              "      <td>35.6783</td>\n",
              "      <td>15.329</td>\n",
              "      <td>1.259663</td>\n",
              "    </tr>\n",
              "    <tr>\n",
              "      <th>15</th>\n",
              "      <td>7056.91</td>\n",
              "      <td>0.207737</td>\n",
              "      <td>0.45575</td>\n",
              "      <td>46.1277</td>\n",
              "      <td>0.137812</td>\n",
              "      <td>115.0100</td>\n",
              "      <td>3482.17</td>\n",
              "      <td>34</td>\n",
              "      <td>41.6588</td>\n",
              "      <td>13.201</td>\n",
              "      <td>0.663395</td>\n",
              "    </tr>\n",
              "    <tr>\n",
              "      <th>16</th>\n",
              "      <td>7036.05</td>\n",
              "      <td>0.091742</td>\n",
              "      <td>0.24238</td>\n",
              "      <td>75.8096</td>\n",
              "      <td>0.123187</td>\n",
              "      <td>91.4481</td>\n",
              "      <td>3346.91</td>\n",
              "      <td>31</td>\n",
              "      <td>33.0085</td>\n",
              "      <td>7.846</td>\n",
              "      <td>1.342755</td>\n",
              "    </tr>\n",
              "    <tr>\n",
              "      <th>17</th>\n",
              "      <td>8039.25</td>\n",
              "      <td>0.137176</td>\n",
              "      <td>0.28574</td>\n",
              "      <td>87.4432</td>\n",
              "      <td>0.157371</td>\n",
              "      <td>113.5400</td>\n",
              "      <td>3103.93</td>\n",
              "      <td>21</td>\n",
              "      <td>37.5014</td>\n",
              "      <td>0.577</td>\n",
              "      <td>1.147215</td>\n",
              "    </tr>\n",
              "    <tr>\n",
              "      <th>18</th>\n",
              "      <td>5267.57</td>\n",
              "      <td>0.062020</td>\n",
              "      <td>0.25026</td>\n",
              "      <td>48.7657</td>\n",
              "      <td>0.067297</td>\n",
              "      <td>80.8711</td>\n",
              "      <td>3318.90</td>\n",
              "      <td>17</td>\n",
              "      <td>41.3319</td>\n",
              "      <td>1.866</td>\n",
              "      <td>1.085083</td>\n",
              "    </tr>\n",
              "    <tr>\n",
              "      <th>19</th>\n",
              "      <td>7239.39</td>\n",
              "      <td>0.122641</td>\n",
              "      <td>0.29116</td>\n",
              "      <td>75.8913</td>\n",
              "      <td>0.130550</td>\n",
              "      <td>114.9980</td>\n",
              "      <td>3070.11</td>\n",
              "      <td>80</td>\n",
              "      <td>39.4591</td>\n",
              "      <td>0.701</td>\n",
              "      <td>1.064481</td>\n",
              "    </tr>\n",
              "  </tbody>\n",
              "</table>\n",
              "</div>"
            ],
            "text/plain": [
              "    mass_npea  size_npear  malign_ratio  damage_size  exposed_area  \\\n",
              "0     6930.90    0.184920       0.42116      51.8298      0.130910   \n",
              "1    15635.70    0.335432       0.31206     223.5500      0.363899   \n",
              "2    10376.20    0.161492       0.25191     127.3370      0.228028   \n",
              "3    13093.80    0.307078       0.34444     155.4400      0.310263   \n",
              "4     7545.21    0.182106       0.38201      85.1237      0.142910   \n",
              "5     6851.09    0.129345       0.32041      72.8283      0.122113   \n",
              "6     7069.24    0.105614       0.26680      58.2686      0.138742   \n",
              "7    16446.10    0.353559       0.31104     204.9740      0.387627   \n",
              "8     6814.73    0.117721       0.29990      90.0889      0.126151   \n",
              "9     5049.75    0.033728       0.18809      41.2957      0.065952   \n",
              "10    7786.91    0.136479       0.29383      72.8165      0.150454   \n",
              "11   12730.70    0.278612       0.32514     152.3320      0.303597   \n",
              "12   12433.60    0.202738       0.25343     112.3810      0.293336   \n",
              "13    9205.53    0.164192       0.28776      85.2738      0.201809   \n",
              "14    9037.90    0.144100       0.26414      85.9327      0.181517   \n",
              "15    7056.91    0.207737       0.45575      46.1277      0.137812   \n",
              "16    7036.05    0.091742       0.24238      75.8096      0.123187   \n",
              "17    8039.25    0.137176       0.28574      87.4432      0.157371   \n",
              "18    5267.57    0.062020       0.25026      48.7657      0.067297   \n",
              "19    7239.39    0.122641       0.29116      75.8913      0.130550   \n",
              "\n",
              "    std_dev_malign  err_malign  malign_penalty  damage_ratio  tumor_size  \\\n",
              "0         109.4870     2758.76              72       39.3620      14.103   \n",
              "1         248.8810     5952.53             240       22.0253       2.648   \n",
              "2         160.0930     4635.26              73       29.9963       1.688   \n",
              "3         173.0150     5273.87              32       28.1354       3.796   \n",
              "4         124.4140     3263.35              57       35.0200      18.023   \n",
              "5          97.1881     3688.57              40       36.3481       1.709   \n",
              "6          76.9447     3168.44              22       39.9961       9.937   \n",
              "7         265.8810     6425.91             242       22.9533       2.510   \n",
              "8          99.6286     3428.54              27       37.1642      12.568   \n",
              "9          70.4142     2734.59              27       41.1366      13.428   \n",
              "10        117.3210     3353.90              63       37.7183      14.597   \n",
              "11        170.4250     5202.67              29       27.9358       3.584   \n",
              "12        165.4300     4718.09              40       29.0498      17.823   \n",
              "13        133.5930     3997.23               4       36.2856       2.110   \n",
              "14        112.0590     3616.39               9       35.6783      15.329   \n",
              "15        115.0100     3482.17              34       41.6588      13.201   \n",
              "16         91.4481     3346.91              31       33.0085       7.846   \n",
              "17        113.5400     3103.93              21       37.5014       0.577   \n",
              "18         80.8711     3318.90              17       41.3319       1.866   \n",
              "19        114.9980     3070.11              80       39.4591       0.701   \n",
              "\n",
              "          v1  \n",
              "0   0.707925  \n",
              "1   1.084865  \n",
              "2   1.412007  \n",
              "3   1.010370  \n",
              "4   0.784762  \n",
              "5   0.944090  \n",
              "6   1.313673  \n",
              "7   1.096356  \n",
              "8   1.071614  \n",
              "9   1.955402  \n",
              "10  1.102396  \n",
              "11  1.089675  \n",
              "12  1.446870  \n",
              "13  1.229099  \n",
              "14  1.259663  \n",
              "15  0.663395  \n",
              "16  1.342755  \n",
              "17  1.147215  \n",
              "18  1.085083  \n",
              "19  1.064481  "
            ]
          },
          "metadata": {
            "tags": []
          },
          "execution_count": 33
        }
      ]
    },
    {
      "cell_type": "code",
      "metadata": {
        "id": "zfKogiOo5qjA",
        "colab_type": "code",
        "colab": {
          "base_uri": "https://localhost:8080/",
          "height": 204
        },
        "outputId": "1093bd92-02b1-42db-9520-5564734e4f8f"
      },
      "source": [
        "test.head()"
      ],
      "execution_count": null,
      "outputs": [
        {
          "output_type": "execute_result",
          "data": {
            "text/html": [
              "<div>\n",
              "<style scoped>\n",
              "    .dataframe tbody tr th:only-of-type {\n",
              "        vertical-align: middle;\n",
              "    }\n",
              "\n",
              "    .dataframe tbody tr th {\n",
              "        vertical-align: top;\n",
              "    }\n",
              "\n",
              "    .dataframe thead th {\n",
              "        text-align: right;\n",
              "    }\n",
              "</style>\n",
              "<table border=\"1\" class=\"dataframe\">\n",
              "  <thead>\n",
              "    <tr style=\"text-align: right;\">\n",
              "      <th></th>\n",
              "      <th>Unnamed: 0</th>\n",
              "      <th>mass_npea</th>\n",
              "      <th>size_npear</th>\n",
              "      <th>malign_ratio</th>\n",
              "      <th>damage_size</th>\n",
              "      <th>exposed_area</th>\n",
              "      <th>std_dev_malign</th>\n",
              "      <th>err_malign</th>\n",
              "      <th>malign_penalty</th>\n",
              "      <th>damage_ratio</th>\n",
              "      <th>v1</th>\n",
              "    </tr>\n",
              "  </thead>\n",
              "  <tbody>\n",
              "    <tr>\n",
              "      <th>0</th>\n",
              "      <td>1</td>\n",
              "      <td>4946.44</td>\n",
              "      <td>0.034246</td>\n",
              "      <td>0.18479</td>\n",
              "      <td>54.5566</td>\n",
              "      <td>0.066636</td>\n",
              "      <td>67.0525</td>\n",
              "      <td>2301.76</td>\n",
              "      <td>22</td>\n",
              "      <td>41.9554</td>\n",
              "      <td>3.328214</td>\n",
              "    </tr>\n",
              "    <tr>\n",
              "      <th>1</th>\n",
              "      <td>2</td>\n",
              "      <td>5613.85</td>\n",
              "      <td>0.082209</td>\n",
              "      <td>0.29019</td>\n",
              "      <td>51.5524</td>\n",
              "      <td>0.090196</td>\n",
              "      <td>80.1986</td>\n",
              "      <td>3235.00</td>\n",
              "      <td>48</td>\n",
              "      <td>40.7410</td>\n",
              "      <td>7.042479</td>\n",
              "    </tr>\n",
              "    <tr>\n",
              "      <th>2</th>\n",
              "      <td>3</td>\n",
              "      <td>12421.10</td>\n",
              "      <td>0.178349</td>\n",
              "      <td>0.24654</td>\n",
              "      <td>154.1560</td>\n",
              "      <td>0.280268</td>\n",
              "      <td>186.8590</td>\n",
              "      <td>4684.63</td>\n",
              "      <td>63</td>\n",
              "      <td>29.4778</td>\n",
              "      <td>3.226714</td>\n",
              "    </tr>\n",
              "    <tr>\n",
              "      <th>3</th>\n",
              "      <td>4</td>\n",
              "      <td>6830.77</td>\n",
              "      <td>0.137784</td>\n",
              "      <td>0.35979</td>\n",
              "      <td>56.8995</td>\n",
              "      <td>0.118422</td>\n",
              "      <td>92.7361</td>\n",
              "      <td>3211.93</td>\n",
              "      <td>42</td>\n",
              "      <td>38.5027</td>\n",
              "      <td>10.291130</td>\n",
              "    </tr>\n",
              "    <tr>\n",
              "      <th>4</th>\n",
              "      <td>5</td>\n",
              "      <td>33407.80</td>\n",
              "      <td>0.801563</td>\n",
              "      <td>0.36978</td>\n",
              "      <td>219.0740</td>\n",
              "      <td>0.829959</td>\n",
              "      <td>493.3370</td>\n",
              "      <td>13389.36</td>\n",
              "      <td>187</td>\n",
              "      <td>26.8449</td>\n",
              "      <td>20.267115</td>\n",
              "    </tr>\n",
              "  </tbody>\n",
              "</table>\n",
              "</div>"
            ],
            "text/plain": [
              "   Unnamed: 0  mass_npea  size_npear  malign_ratio  damage_size  exposed_area  \\\n",
              "0           1    4946.44    0.034246       0.18479      54.5566      0.066636   \n",
              "1           2    5613.85    0.082209       0.29019      51.5524      0.090196   \n",
              "2           3   12421.10    0.178349       0.24654     154.1560      0.280268   \n",
              "3           4    6830.77    0.137784       0.35979      56.8995      0.118422   \n",
              "4           5   33407.80    0.801563       0.36978     219.0740      0.829959   \n",
              "\n",
              "   std_dev_malign  err_malign  malign_penalty  damage_ratio         v1  \n",
              "0         67.0525     2301.76              22       41.9554   3.328214  \n",
              "1         80.1986     3235.00              48       40.7410   7.042479  \n",
              "2        186.8590     4684.63              63       29.4778   3.226714  \n",
              "3         92.7361     3211.93              42       38.5027  10.291130  \n",
              "4        493.3370    13389.36             187       26.8449  20.267115  "
            ]
          },
          "metadata": {
            "tags": []
          },
          "execution_count": 25
        }
      ]
    },
    {
      "cell_type": "code",
      "metadata": {
        "id": "d_hxHIQ4nDd9",
        "colab_type": "code",
        "colab": {}
      },
      "source": [
        "train.shape"
      ],
      "execution_count": null,
      "outputs": []
    },
    {
      "cell_type": "code",
      "metadata": {
        "id": "4Ony9uIanFRD",
        "colab_type": "code",
        "colab": {}
      },
      "source": [
        "test.shape"
      ],
      "execution_count": null,
      "outputs": []
    },
    {
      "cell_type": "code",
      "metadata": {
        "id": "UqZMRsEsnGm-",
        "colab_type": "code",
        "colab": {}
      },
      "source": [
        "train.dtypes"
      ],
      "execution_count": null,
      "outputs": []
    },
    {
      "cell_type": "code",
      "metadata": {
        "id": "dQqb4AWOnITB",
        "colab_type": "code",
        "colab": {}
      },
      "source": [
        "test.dtypes"
      ],
      "execution_count": null,
      "outputs": []
    },
    {
      "cell_type": "code",
      "metadata": {
        "id": "D3EzjcQBnNjT",
        "colab_type": "code",
        "colab": {}
      },
      "source": [
        "plt.scatter((train[\"mass_npea\"])*(train['size_npear']),train['tumor_size'])"
      ],
      "execution_count": null,
      "outputs": []
    },
    {
      "cell_type": "code",
      "metadata": {
        "id": "ZIIMfuAdnQ0A",
        "colab_type": "code",
        "colab": {}
      },
      "source": [
        "plt.scatter(train['exposed_area']/train['size_npear'],train['tumor_size'])"
      ],
      "execution_count": null,
      "outputs": []
    },
    {
      "cell_type": "code",
      "metadata": {
        "id": "YXoT1sX3Pr5t",
        "colab_type": "code",
        "colab": {}
      },
      "source": [
        "train['v1']=train['exposed_area']/train['size_npear']\n",
        "test['v1']=test['exposed_area']*test['size_npear']\n"
      ],
      "execution_count": null,
      "outputs": []
    },
    {
      "cell_type": "code",
      "metadata": {
        "id": "lcdpI7JE50em",
        "colab_type": "code",
        "colab": {
          "base_uri": "https://localhost:8080/",
          "height": 323
        },
        "outputId": "ee1de844-73c1-4d16-d79e-aa95816b219b"
      },
      "source": [
        "!pip install catboost"
      ],
      "execution_count": null,
      "outputs": [
        {
          "output_type": "stream",
          "text": [
            "Collecting catboost\n",
            "\u001b[?25l  Downloading https://files.pythonhosted.org/packages/96/6c/6608210b29649267de52001b09e369777ee2a5cfe1c71fa75eba82a4f2dc/catboost-0.24-cp36-none-manylinux1_x86_64.whl (65.9MB)\n",
            "\u001b[K     |████████████████████████████████| 65.9MB 57kB/s \n",
            "\u001b[?25hRequirement already satisfied: numpy>=1.16.0 in /usr/local/lib/python3.6/dist-packages (from catboost) (1.18.5)\n",
            "Requirement already satisfied: plotly in /usr/local/lib/python3.6/dist-packages (from catboost) (4.4.1)\n",
            "Requirement already satisfied: graphviz in /usr/local/lib/python3.6/dist-packages (from catboost) (0.10.1)\n",
            "Requirement already satisfied: matplotlib in /usr/local/lib/python3.6/dist-packages (from catboost) (3.2.2)\n",
            "Requirement already satisfied: six in /usr/local/lib/python3.6/dist-packages (from catboost) (1.15.0)\n",
            "Requirement already satisfied: scipy in /usr/local/lib/python3.6/dist-packages (from catboost) (1.4.1)\n",
            "Requirement already satisfied: pandas>=0.24.0 in /usr/local/lib/python3.6/dist-packages (from catboost) (1.0.5)\n",
            "Requirement already satisfied: retrying>=1.3.3 in /usr/local/lib/python3.6/dist-packages (from plotly->catboost) (1.3.3)\n",
            "Requirement already satisfied: cycler>=0.10 in /usr/local/lib/python3.6/dist-packages (from matplotlib->catboost) (0.10.0)\n",
            "Requirement already satisfied: python-dateutil>=2.1 in /usr/local/lib/python3.6/dist-packages (from matplotlib->catboost) (2.8.1)\n",
            "Requirement already satisfied: pyparsing!=2.0.4,!=2.1.2,!=2.1.6,>=2.0.1 in /usr/local/lib/python3.6/dist-packages (from matplotlib->catboost) (2.4.7)\n",
            "Requirement already satisfied: kiwisolver>=1.0.1 in /usr/local/lib/python3.6/dist-packages (from matplotlib->catboost) (1.2.0)\n",
            "Requirement already satisfied: pytz>=2017.2 in /usr/local/lib/python3.6/dist-packages (from pandas>=0.24.0->catboost) (2018.9)\n",
            "Installing collected packages: catboost\n",
            "Successfully installed catboost-0.24\n"
          ],
          "name": "stdout"
        }
      ]
    },
    {
      "cell_type": "code",
      "metadata": {
        "id": "TPXJFYVS53mE",
        "colab_type": "code",
        "colab": {}
      },
      "source": [
        "from catboost import CatBoostRegressor\n",
        "from sklearn.ensemble import RandomForestRegressor\n",
        "from lightgbm import LGBMRegressor"
      ],
      "execution_count": null,
      "outputs": []
    },
    {
      "cell_type": "code",
      "metadata": {
        "id": "WBY4Nldu6DL4",
        "colab_type": "code",
        "colab": {}
      },
      "source": [
        "from sklearn.model_selection import KFold\n",
        "from sklearn.metrics import mean_squared_error"
      ],
      "execution_count": null,
      "outputs": []
    },
    {
      "cell_type": "code",
      "metadata": {
        "id": "kfpsJa5sp7r3",
        "colab_type": "code",
        "colab": {}
      },
      "source": [
        "train=train.drop(columns=['Unnamed: 0',\"v1\"])\n",
        "test=test.drop(columns=['Unnamed: 0',\"v1\"])"
      ],
      "execution_count": null,
      "outputs": []
    },
    {
      "cell_type": "code",
      "metadata": {
        "id": "j3W22Uv16x2T",
        "colab_type": "code",
        "colab": {}
      },
      "source": [
        "x=train.drop(columns=['tumor_size'])\n",
        "y=train['tumor_size']"
      ],
      "execution_count": null,
      "outputs": []
    },
    {
      "cell_type": "code",
      "metadata": {
        "id": "-6f_YDtt6Mmy",
        "colab_type": "code",
        "colab": {
          "base_uri": "https://localhost:8080/",
          "height": 119
        },
        "outputId": "d4b5405f-90f4-4eac-bc44-6dce5448823b"
      },
      "source": [
        "kfold, scores = KFold(n_splits=5, shuffle=True, random_state=27), []\n",
        "Actual_Preds=[]\n",
        "\n",
        "for trainn, testt in kfold.split(x):\n",
        "        x_train, x_test = x.iloc[trainn], x.iloc[testt]\n",
        "        y_train, y_test = y.iloc[trainn], y.iloc[testt]\n",
        "        \n",
        "        model = CatBoostRegressor(num_trees=2000,learning_rate=0.05,od_type=\"Iter\",od_wait=200\n",
        "                                  )\n",
        "        model.fit(x_train,y_train)\n",
        "\n",
        "        preds =model.predict(x_test)\n",
        "        score = mean_squared_error(y_test, preds)**(1/2)\n",
        "        scores.append(score)\n",
        "        realpreds = model.predict(test)\n",
        "        Actual_Preds.append(realpreds)\n",
        "        \n",
        "        print(score)\n",
        "print(\"AVERAGE SCORE: \", sum(scores)/len(scores))"
      ],
      "execution_count": null,
      "outputs": [
        {
          "output_type": "stream",
          "text": [
            "4.066957572615852\n",
            "4.06944501242417\n",
            "3.9931314141611662\n",
            "3.9524730082948794\n",
            "4.109711538344186\n",
            "AVERAGE SCORE:  4.038343709168051\n"
          ],
          "name": "stdout"
        }
      ]
    },
    {
      "cell_type": "code",
      "metadata": {
        "id": "ggQYBzKp7AE3",
        "colab_type": "code",
        "colab": {}
      },
      "source": [
        "preds = np.mean(Actual_Preds,0)\n",
        "liv= pd.DataFrame(preds,columns=[\"tumor_size\"])\n"
      ],
      "execution_count": null,
      "outputs": []
    },
    {
      "cell_type": "code",
      "metadata": {
        "id": "fS0aZRGRNdL2",
        "colab_type": "code",
        "colab": {}
      },
      "source": [
        "liv['tumor_size']=model.predict(test)"
      ],
      "execution_count": null,
      "outputs": []
    },
    {
      "cell_type": "code",
      "metadata": {
        "id": "Phm-zASm99Pa",
        "colab_type": "code",
        "colab": {}
      },
      "source": [
        "liv['tumor_size'].to_csv(\"predictions.csv\",index=False)"
      ],
      "execution_count": null,
      "outputs": []
    }
  ]
}